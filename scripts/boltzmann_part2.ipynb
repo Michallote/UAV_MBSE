{
 "cells": [
  {
   "cell_type": "code",
   "execution_count": 1,
   "metadata": {},
   "outputs": [
    {
     "ename": "ImportError",
     "evalue": "/home/michallote/Documents/programming/UAV_MBSE_bkp/.venv/lib/python3.13/site-packages/torch/lib/../../nvidia/cusparse/lib/libcusparse.so.12: undefined symbol: __nvJitLinkComplete_12_4, version libnvJitLink.so.12",
     "output_type": "error",
     "traceback": [
      "\u001b[0;31m---------------------------------------------------------------------------\u001b[0m",
      "\u001b[0;31mImportError\u001b[0m                               Traceback (most recent call last)",
      "Cell \u001b[0;32mIn[1], line 1\u001b[0m\n\u001b[0;32m----> 1\u001b[0m \u001b[38;5;28;01mimport\u001b[39;00m\u001b[38;5;250m \u001b[39m\u001b[38;5;21;01mtorch\u001b[39;00m\n\u001b[1;32m      2\u001b[0m \u001b[38;5;28;01mimport\u001b[39;00m\u001b[38;5;250m \u001b[39m\u001b[38;5;21;01mnumpy\u001b[39;00m\u001b[38;5;250m \u001b[39m\u001b[38;5;28;01mas\u001b[39;00m\u001b[38;5;250m \u001b[39m\u001b[38;5;21;01mnp\u001b[39;00m\n\u001b[1;32m      3\u001b[0m \u001b[38;5;28;01mimport\u001b[39;00m\u001b[38;5;250m \u001b[39m\u001b[38;5;21;01mmatplotlib\u001b[39;00m\u001b[38;5;21;01m.\u001b[39;00m\u001b[38;5;21;01mpyplot\u001b[39;00m\u001b[38;5;250m \u001b[39m\u001b[38;5;28;01mas\u001b[39;00m\u001b[38;5;250m \u001b[39m\u001b[38;5;21;01mplt\u001b[39;00m\n",
      "File \u001b[0;32m~/Documents/programming/UAV_MBSE_bkp/.venv/lib/python3.13/site-packages/torch/__init__.py:367\u001b[0m\n\u001b[1;32m    365\u001b[0m     \u001b[38;5;28;01mif\u001b[39;00m USE_GLOBAL_DEPS:\n\u001b[1;32m    366\u001b[0m         _load_global_deps()\n\u001b[0;32m--> 367\u001b[0m     \u001b[38;5;28;01mfrom\u001b[39;00m\u001b[38;5;250m \u001b[39m\u001b[38;5;21;01mtorch\u001b[39;00m\u001b[38;5;21;01m.\u001b[39;00m\u001b[38;5;21;01m_C\u001b[39;00m\u001b[38;5;250m \u001b[39m\u001b[38;5;28;01mimport\u001b[39;00m \u001b[38;5;241m*\u001b[39m  \u001b[38;5;66;03m# noqa: F403\u001b[39;00m\n\u001b[1;32m    370\u001b[0m \u001b[38;5;28;01mclass\u001b[39;00m\u001b[38;5;250m \u001b[39m\u001b[38;5;21;01mSymInt\u001b[39;00m:\n\u001b[1;32m    371\u001b[0m \u001b[38;5;250m    \u001b[39m\u001b[38;5;124;03m\"\"\"\u001b[39;00m\n\u001b[1;32m    372\u001b[0m \u001b[38;5;124;03m    Like an int (including magic methods), but redirects all operations on the\u001b[39;00m\n\u001b[1;32m    373\u001b[0m \u001b[38;5;124;03m    wrapped node. This is used in particular to symbolically record operations\u001b[39;00m\n\u001b[1;32m    374\u001b[0m \u001b[38;5;124;03m    in the symbolic shape workflow.\u001b[39;00m\n\u001b[1;32m    375\u001b[0m \u001b[38;5;124;03m    \"\"\"\u001b[39;00m\n",
      "\u001b[0;31mImportError\u001b[0m: /home/michallote/Documents/programming/UAV_MBSE_bkp/.venv/lib/python3.13/site-packages/torch/lib/../../nvidia/cusparse/lib/libcusparse.so.12: undefined symbol: __nvJitLinkComplete_12_4, version libnvJitLink.so.12"
     ]
    }
   ],
   "source": [
    "import torch\n",
    "import numpy as np\n",
    "import matplotlib.pyplot as plt\n",
    "\n",
    "plt.style.use([\"science\", \"notebook\"])\n",
    "device = torch.device(\"cuda\" if torch.cuda.is_available() else \"cpu\")"
   ]
  },
  {
   "cell_type": "markdown",
   "metadata": {},
   "source": [
    "This video is based on the simulation from https://www.youtube.com/watch?v=iSEAidM-DDI so be sure to check that video out. It should be regarded as a prerequisite to this video."
   ]
  },
  {
   "cell_type": "markdown",
   "metadata": {},
   "source": [
    "# Brief Review"
   ]
  },
  {
   "cell_type": "markdown",
   "metadata": {},
   "source": [
    "We can give random positions to particles:"
   ]
  },
  {
   "cell_type": "code",
   "execution_count": null,
   "metadata": {},
   "outputs": [],
   "source": [
    "n_particles = 16\n",
    "r = torch.rand((2, n_particles)).to(device)\n",
    "# Color particles the start on either side\n",
    "ixr = r[0] > 0.5  # right\n",
    "ixl = r[0] <= 0.5  # left\n",
    "\n",
    "plt.figure(figsize=(5, 5))\n",
    "plt.scatter(r[0][ixr].cpu(), r[1][ixr].cpu(), color=\"r\", s=6)\n",
    "plt.scatter(r[0][ixl].cpu(), r[1][ixl].cpu(), color=\"b\", s=6)"
   ]
  },
  {
   "cell_type": "markdown",
   "metadata": {},
   "source": [
    "We assign each of the initial velocities to be +500m/s (blue) or -500m/s (red)"
   ]
  },
  {
   "cell_type": "code",
   "execution_count": 7,
   "metadata": {},
   "outputs": [],
   "source": [
    "v = torch.zeros((2, n_particles)).to(device)\n",
    "v[0][ixr] = -500\n",
    "v[0][ixl] = 500"
   ]
  },
  {
   "cell_type": "markdown",
   "metadata": {},
   "source": [
    "By assigning each particle a unique ID, we can track the distance between all pairs:"
   ]
  },
  {
   "cell_type": "code",
   "execution_count": 8,
   "metadata": {},
   "outputs": [],
   "source": [
    "ids = torch.arange(n_particles)"
   ]
  },
  {
   "cell_type": "code",
   "execution_count": 12,
   "metadata": {},
   "outputs": [],
   "source": [
    "ids = torch.arange(n_particles)\n",
    "ids_pairs = torch.combinations(ids, 2).to(device)"
   ]
  },
  {
   "cell_type": "markdown",
   "metadata": {},
   "source": [
    "We can use these \"paired\" ids to get $(x_i, x_j)$ and $(y_i,y_j)$ "
   ]
  },
  {
   "cell_type": "code",
   "execution_count": 15,
   "metadata": {},
   "outputs": [],
   "source": [
    "x_pairs = torch.stack([r[0][ids_pairs[:, 0]], r[0][ids_pairs[:, 1]]]).T"
   ]
  },
  {
   "cell_type": "markdown",
   "metadata": {},
   "source": [
    "Then we can compute the distance $\\Delta r_{ij}=\\sqrt{(x_i-x_j)^2+(y_i-y_j)^2}$ for all pairs"
   ]
  },
  {
   "cell_type": "code",
   "execution_count": 20,
   "metadata": {},
   "outputs": [],
   "source": [
    "x_pairs = torch.stack([r[0][ids_pairs[:, 0]], r[0][ids_pairs[:, 1]]]).T\n",
    "y_pairs = torch.stack([r[1][ids_pairs[:, 0]], r[1][ids_pairs[:, 1]]]).T\n",
    "dx_pairs = torch.diff(x_pairs, axis=1).ravel()\n",
    "dy_pairs = torch.diff(y_pairs, axis=1).ravel()\n",
    "d_pairs = torch.sqrt(dx_pairs**2 + dy_pairs**2)"
   ]
  },
  {
   "cell_type": "markdown",
   "metadata": {},
   "source": [
    "These distances can be used to determine whether or not particles collide (look for $d=2R$ where $R$ is the particle radius)."
   ]
  },
  {
   "cell_type": "code",
   "execution_count": null,
   "metadata": {},
   "outputs": [],
   "source": [
    "radius = 0.06\n",
    "ids_pairs_collide = ids_pairs[d_pairs < 2 * radius]\n",
    "ids_pairs_collide"
   ]
  },
  {
   "cell_type": "markdown",
   "metadata": {},
   "source": [
    "Then we can modify their velocities based on\n",
    "\n",
    "$$\\vec{v}_1^{\\text{new}} = \\vec{v}_1 - \\frac{(\\vec{v}_1 - \\vec{v}_2) \\cdot (\\vec{r}_1 - \\vec{r}_2)}{|\\vec{r}_1 - \\vec{r}_2|^2} (\\vec{r}_1 - \\vec{r}_2)$$\n",
    "$$\\vec{v}_2^{\\text{new}} = \\vec{v}_2 - \\frac{(\\vec{v}_2 - \\vec{v}_1) \\cdot (\\vec{r}_2 - \\vec{r}_1)}{|\\vec{r}_1 - \\vec{r}_2|^2} (\\vec{r}_2 - \\vec{r}_1)$$"
   ]
  },
  {
   "cell_type": "code",
   "execution_count": 27,
   "metadata": {},
   "outputs": [],
   "source": [
    "v1 = v[:, ids_pairs_collide[:, 0]]\n",
    "v2 = v[:, ids_pairs_collide[:, 1]]\n",
    "r1 = r[:, ids_pairs_collide[:, 0]]\n",
    "r2 = r[:, ids_pairs_collide[:, 1]]\n",
    "v1new = v1 - torch.sum((v1 - v2) * (r1 - r2), axis=0) / torch.sum(\n",
    "    (r1 - r2) ** 2, axis=0\n",
    ") * (r1 - r2)\n",
    "v2new = v2 - torch.sum((v1 - v2) * (r1 - r2), axis=0) / torch.sum(\n",
    "    (r2 - r1) ** 2, axis=0\n",
    ") * (r2 - r1)"
   ]
  },
  {
   "cell_type": "markdown",
   "metadata": {},
   "source": [
    "We then run a simulation where $\\vec{r}^{(i+1)} = \\vec{v}^{(i)}  \\Delta t$ and we change velocities if an only if particles collide, or if they hit the edges of the box\n",
    "\n",
    "* This is important for this simulation. If they hit the edges of the box, an *elastic* collision is assumed, and a component of the particles velocity gets reversed. For example, if a particle hit the side of the box located at +X, the particles $v_x$ component would flip signs."
   ]
  },
  {
   "cell_type": "code",
   "execution_count": 30,
   "metadata": {},
   "outputs": [],
   "source": [
    "def get_deltad2_pairs(r, ids_pairs):\n",
    "    dx = torch.diff(\n",
    "        torch.stack([r[0][ids_pairs[:, 0]], r[0][ids_pairs[:, 1]]]).T\n",
    "    ).squeeze()\n",
    "    dy = torch.diff(\n",
    "        torch.stack([r[1][ids_pairs[:, 0]], r[1][ids_pairs[:, 1]]]).T\n",
    "    ).squeeze()\n",
    "    return dx**2 + dy**2\n",
    "\n",
    "\n",
    "def compute_new_v(v1, v2, r1, r2):\n",
    "    v1new = v1 - torch.sum((v1 - v2) * (r1 - r2), axis=0) / torch.sum(\n",
    "        (r1 - r2) ** 2, axis=0\n",
    "    ) * (r1 - r2)\n",
    "    v2new = v2 - torch.sum((v1 - v2) * (r1 - r2), axis=0) / torch.sum(\n",
    "        (r2 - r1) ** 2, axis=0\n",
    "    ) * (r2 - r1)\n",
    "    return v1new, v2new\n",
    "\n",
    "\n",
    "def motion(r, v, ids_pairs, ts, dt, d_cutoff):\n",
    "    rs = torch.zeros((ts, r.shape[0], r.shape[1])).to(device)\n",
    "    vs = torch.zeros((ts, v.shape[0], v.shape[1])).to(device)\n",
    "    # Initial State\n",
    "    rs[0] = r\n",
    "    vs[0] = v\n",
    "    for i in range(1, ts):\n",
    "        ic = ids_pairs[get_deltad2_pairs(r, ids_pairs) < d_cutoff**2]\n",
    "        v[:, ic[:, 0]], v[:, ic[:, 1]] = compute_new_v(\n",
    "            v[:, ic[:, 0]], v[:, ic[:, 1]], r[:, ic[:, 0]], r[:, ic[:, 1]]\n",
    "        )\n",
    "\n",
    "        v[0, r[0] > 1] = -torch.abs(v[0, r[0] > 1])\n",
    "        v[0, r[0] < 0] = torch.abs(v[0, r[0] < 0])\n",
    "        v[1, r[1] > 1] = -torch.abs(v[1, r[1] > 1])\n",
    "        v[1, r[1] < 0] = torch.abs(v[1, r[1] < 0])\n",
    "\n",
    "        r = r + v * dt\n",
    "        rs[i] = r\n",
    "        vs[i] = r\n",
    "    return rs, vs"
   ]
  },
  {
   "cell_type": "code",
   "execution_count": 31,
   "metadata": {},
   "outputs": [],
   "source": [
    "N = 3000\n",
    "dt = 8e-6\n",
    "t_steps = 2000\n",
    "v0 = 500\n",
    "L = 1\n",
    "r = torch.rand((2, N)).to(device)\n",
    "ixr = r[0] > 0.5\n",
    "ixl = r[0] <= 0.5\n",
    "ids = torch.arange(N)\n",
    "ids_pairs = torch.combinations(ids, 2).to(device)\n",
    "v = torch.zeros((2, N)).to(device)\n",
    "v[0][ixr] = -v0\n",
    "v[0][ixl] = v0\n",
    "radius = 0.005\n",
    "rs, vs = motion(r, v, ids_pairs, ts=t_steps, dt=dt, d_cutoff=2 * radius)"
   ]
  },
  {
   "cell_type": "code",
   "execution_count": null,
   "metadata": {},
   "outputs": [],
   "source": [
    "plt.scatter(*rs[471].cpu())\n",
    "plt.xlim(0, 1)\n",
    "plt.ylim(0, 1)\n",
    "plt.show()"
   ]
  },
  {
   "cell_type": "markdown",
   "metadata": {},
   "source": [
    "# Ideal Gas Law"
   ]
  },
  {
   "cell_type": "markdown",
   "metadata": {},
   "source": [
    "We essentially want to show that\n",
    "\n",
    "$$PV = Nk_B T$$\n",
    "\n",
    "where $P$ is pressure, $V=L^3$ is the volume of a box, $N$ is the number of particles, and $k_B$ is Boltzmann's constant. Noting that $E = 3/2 k_B T$ (kinetic theory of gases) we can write $1/2 m v_{average}^2 = 3/2 k_B T$ or that\n",
    "\n",
    "$$T = \\frac{m}{3k_B}v_{average}^2$$\n",
    "\n",
    "Since no energy is lost, $v_{average}$ will remain the same throughout the simulation (note we assume that all particles have same mass $m$ here). We can rewrite the right hand side (RHS) of the ideal gas law as\n",
    "\n",
    "$$RHS = \\frac{Nm}{3}v_{average}^2$$\n",
    "\n",
    "In our billiard ball simulation, the RHS can be computed based on the initial state. We choose the number of particles $N$ and initial velocities $v$ and this can be computed. The purpose of the simulation will be to show that the $RHS$ is equal to $PV$ (which is computed based on balls hitting walls).\n",
    "\n",
    " The pressure is given by $P = F/(6L^2)$ where $F$ is the force and $L$ is the side length of the box. We just need to compute the imparted force. Noting that $F = \\Delta p / \\Delta t$, we can compute the force as follows:\n",
    "\n",
    " * We track particles that hit the walls of the box and compute the change of momentum $\\Delta p_i$ given to the box at each time step.\n",
    " * The force is then $F = \\sum_i |\\Delta p_i| / t$ where $t$ is the length of time of the simulation.\n",
    " * Note that $p_i = mv_i$\n",
    "\n",
    " We can substitute this into $P$ and set $V=L^3$ to get\n",
    "\n",
    " $$LHS = \\frac{mL \\sum |\\Delta v_i|}{6 \\Delta t}$$\n",
    "\n",
    " So if we compute $RHS$ at the beginning of the simulation, run the simulation, and show that $LHS$ is equal, then we have effectively provided Monte Carlo based evidence for the ideal gas law. Since both are proportional to mass, we'll neglect $m$ and simply show that  $LHS/m = RHS/m$\n",
    "\n"
   ]
  },
  {
   "cell_type": "code",
   "execution_count": 38,
   "metadata": {},
   "outputs": [],
   "source": [
    "def get_deltad2_pairs(r, ids_pairs):\n",
    "    dx = torch.diff(\n",
    "        torch.stack([r[0][ids_pairs[:, 0]], r[0][ids_pairs[:, 1]]]).T\n",
    "    ).squeeze()\n",
    "    dy = torch.diff(\n",
    "        torch.stack([r[1][ids_pairs[:, 0]], r[1][ids_pairs[:, 1]]]).T\n",
    "    ).squeeze()\n",
    "    dz = torch.diff(\n",
    "        torch.stack([r[2][ids_pairs[:, 0]], r[2][ids_pairs[:, 1]]]).T\n",
    "    ).squeeze()\n",
    "    return dx**2 + dy**2 + dz**2\n",
    "\n",
    "\n",
    "def compute_new_v(v1, v2, r1, r2):\n",
    "    v1new = v1 - torch.sum((v1 - v2) * (r1 - r2), axis=0) / torch.sum(\n",
    "        (r1 - r2) ** 2, axis=0\n",
    "    ) * (r1 - r2)\n",
    "    v2new = v2 - torch.sum((v1 - v2) * (r1 - r2), axis=0) / torch.sum(\n",
    "        (r2 - r1) ** 2, axis=0\n",
    "    ) * (r2 - r1)\n",
    "    return v1new, v2new\n",
    "\n",
    "\n",
    "def motion(r, v, L, id_pairs, ts, dt, d_cutoff):\n",
    "    rs = torch.zeros((ts, *r.shape)).to(device)\n",
    "    vs = torch.zeros((ts, *v.shape)).to(device)\n",
    "    # Initial State\n",
    "    rs[0] = r\n",
    "    vs[0] = v\n",
    "    dv = torch.zeros(ts).to(device)\n",
    "    for i in range(1, ts):\n",
    "        ic = id_pairs[get_deltad2_pairs(r, id_pairs) < d_cutoff**2]\n",
    "        v[:, ic[:, 0]], v[:, ic[:, 1]] = compute_new_v(\n",
    "            v[:, ic[:, 0]], v[:, ic[:, 1]], r[:, ic[:, 0]], r[:, ic[:, 1]]\n",
    "        )\n",
    "        # NEW STUFF\n",
    "        v[0, r[0] > 1] = -torch.abs(v[0, r[0] > L])\n",
    "        dv[i] += 2 * torch.sum(torch.abs(v[0, r[0] > L]))\n",
    "        v[0, r[0] < 0] = torch.abs(v[0, r[0] < 0])\n",
    "        dv[i] += 2 * torch.sum(torch.abs(v[0, r[0] < 0]))\n",
    "        v[1, r[1] > L] = -torch.abs(v[1, r[1] > L])\n",
    "        dv[i] += 2 * torch.sum(torch.abs(v[1, r[1] > L]))\n",
    "        v[1, r[1] < 0] = torch.abs(v[1, r[1] < 0])\n",
    "        dv[i] += 2 * torch.sum(torch.abs(v[1, r[1] < 0]))\n",
    "        v[2, r[2] > L] = -torch.abs(v[2, r[2] > L])\n",
    "        dv[i] += 2 * torch.sum(torch.abs(v[2, r[2] > L]))\n",
    "        v[2, r[2] < 0] = torch.abs(v[2, r[2] < 0])\n",
    "        dv[i] += 2 * torch.sum(torch.abs(v[2, r[2] < 0]))\n",
    "        r = r + v * dt\n",
    "        rs[i] = r\n",
    "        vs[i] = v\n",
    "    return rs, vs, dv"
   ]
  },
  {
   "cell_type": "code",
   "execution_count": 39,
   "metadata": {},
   "outputs": [],
   "source": [
    "N = 3000\n",
    "dt = 8e-6\n",
    "t_steps = 2000\n",
    "t = np.arange(t_steps) * dt\n",
    "v0 = 500\n",
    "L = 1\n",
    "r = torch.rand((3, N)).to(device)\n",
    "ixr = r[0] > 0.5\n",
    "ixl = r[0] <= 0.5\n",
    "ids = torch.arange(N)\n",
    "ids_pairs = torch.combinations(ids, 2).to(device)\n",
    "v = torch.zeros((3, N)).to(device)\n",
    "v[0][ixr] = -v0\n",
    "v[0][ixl] = v0\n",
    "radius = 0.005\n",
    "rs, vs, dv = motion(r, v, L, ids_pairs, ts=t_steps, dt=dt, d_cutoff=2 * radius)"
   ]
  },
  {
   "cell_type": "markdown",
   "metadata": {},
   "source": [
    "First, lets take a look at the change in velocity $|\\Delta v_i|$ induced by the particles hitting the walls:"
   ]
  },
  {
   "cell_type": "code",
   "execution_count": null,
   "metadata": {},
   "outputs": [],
   "source": [
    "plt.plot(t, dv.cpu())\n",
    "plt.xlabel(r\"Time $t_i$ [s]\")\n",
    "plt.ylabel(r\"$\\Delta v_i$ [m/s]\")"
   ]
  },
  {
   "cell_type": "markdown",
   "metadata": {},
   "source": [
    "Since the particles are initially moving either left or right at 500m/s, pressure only gets exerted on the wall when they all reach the wall. Over time, the gas particles get distributed according to the Boltzmann distribution and the pressure becomes more constant"
   ]
  },
  {
   "cell_type": "markdown",
   "metadata": {},
   "source": [
    "So we'll compute the LHS and RHS using only the last 1000 points of the simulation (when the gas has reached its Boltzmann distribution state)"
   ]
  },
  {
   "cell_type": "code",
   "execution_count": null,
   "metadata": {},
   "outputs": [],
   "source": [
    "n_points = 1000\n",
    "LHS = torch.sum(dv[-n_points:]) / (6 * L**2 * dt * n_points)\n",
    "print(LHS.item())"
   ]
  },
  {
   "cell_type": "code",
   "execution_count": null,
   "metadata": {},
   "outputs": [],
   "source": [
    "RHS = N / 3 * v0**2\n",
    "print(RHS)"
   ]
  },
  {
   "cell_type": "markdown",
   "metadata": {},
   "source": [
    "These numbers, being very close, provide evidence for the ideal gas law the pressure is $P \\propto T$. We can do multiple simulations and plot the following equation. Noting that the LHS is equal to $PV$ and the RHS is equal to $Nk_BT$ we can change the values of $v_0$ and show a linear relationship:"
   ]
  },
  {
   "cell_type": "markdown",
   "metadata": {},
   "source": []
  },
  {
   "cell_type": "code",
   "execution_count": 43,
   "metadata": {},
   "outputs": [],
   "source": [
    "def run_simulation(N, v0, L, radius=0.005, n_points=1000, t_steps=4000):\n",
    "    dt = 8e-6\n",
    "    r = torch.rand((3, N)).to(device)\n",
    "    ixr = r[0] > 0.5\n",
    "    ixl = r[0] <= 0.5\n",
    "    ids = torch.arange(N)\n",
    "    ids_pairs = torch.combinations(ids, 2).to(device)\n",
    "    v = torch.zeros((3, N)).to(device)\n",
    "    v[0][ixr] = -v0\n",
    "    v[0][ixl] = v0\n",
    "    rs, vs, dv = motion(r, v, L, ids_pairs, ts=t_steps, dt=dt, d_cutoff=2 * radius)\n",
    "    LHS = torch.sum(dv[-n_points:]) / (6 * L**2 * dt * n_points)\n",
    "    RHS = N / 3 * v0**2\n",
    "    return LHS.item(), RHS"
   ]
  },
  {
   "cell_type": "markdown",
   "metadata": {},
   "source": [
    "Now lets run different simulations for different values of $v_0$"
   ]
  },
  {
   "cell_type": "code",
   "execution_count": 44,
   "metadata": {},
   "outputs": [],
   "source": [
    "v0s = [300, 500, 700, 900]\n",
    "LHSs = []\n",
    "RHSs = []\n",
    "for v0 in v0s:\n",
    "    LHS, RHS = run_simulation(N=3000, v0=v0, L=1)\n",
    "    LHSs.append(LHS)\n",
    "    RHSs.append(RHS)"
   ]
  },
  {
   "cell_type": "code",
   "execution_count": null,
   "metadata": {},
   "outputs": [],
   "source": [
    "plt.figure(figsize=(5, 5))\n",
    "plt.plot(RHSs, LHSs, \"o--\")\n",
    "plt.title(\"Pressure vs. Temperature\")\n",
    "plt.xlabel(r\"$\\frac{Nm}{3}v_{average}^2$\")\n",
    "plt.ylabel(r\"$\\frac{mL \\sum |\\Delta v_i|}{6 \\Delta t}$\")\n",
    "plt.grid()\n",
    "plt.show()"
   ]
  },
  {
   "cell_type": "markdown",
   "metadata": {},
   "source": [
    "## Exercise For Viewers\n",
    "In this video, we showed the $P \\propto T$. This code can be modified to show other results. For example, you can show\n",
    "\n",
    "* $P \\propto 1/V$. This requires rearranging $PV = Nk_BT$ to get $1/V$ on one side, and another quantity on the other side. Then one can vary $V$ and see how the other side of the equation changes (requires changing $L$ in simulation above)\n",
    "* $P$ is independent of radius. Just try different values of particle radius and show the simulation results don't change.\n",
    "* $P \\propto N$. Again, rearrange the equation to get $N$ on one side (computed using initial state) and another quantity on the other side (computed based on simulation) and plot $P$ \"equivalent\" vs $N$ \"equivalent\"."
   ]
  }
 ],
 "metadata": {
  "kernelspec": {
   "display_name": ".venv",
   "language": "python",
   "name": "python3"
  },
  "language_info": {
   "codemirror_mode": {
    "name": "ipython",
    "version": 3
   },
   "file_extension": ".py",
   "mimetype": "text/x-python",
   "name": "python",
   "nbconvert_exporter": "python",
   "pygments_lexer": "ipython3",
   "version": "3.13.1"
  }
 },
 "nbformat": 4,
 "nbformat_minor": 2
}
